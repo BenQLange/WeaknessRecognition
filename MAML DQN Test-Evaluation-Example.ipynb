{
 "cells": [
  {
   "cell_type": "code",
   "execution_count": 1,
   "metadata": {},
   "outputs": [],
   "source": [
    "import os\n",
    "import numpy as np\n",
    "import random\n",
    "import math\n",
    "\n",
    "import torch\n",
    "import torch.nn as nn\n",
    "import torch.nn.functional as F\n",
    "from torch.autograd import Variable\n",
    "\n",
    "import MNISTClassifier\n",
    "import envs\n",
    "import agents_maml\n",
    "import maml\n",
    "\n",
    "import matplotlib.pyplot as plt\n",
    "\n",
    "random_seed = 1\n",
    "torch.backends.cudnn.enabled = False\n",
    "torch.manual_seed(random_seed)\n",
    "torch.backends.cudnn.deterministic = True\n",
    "random.seed(random_seed)"
   ]
  },
  {
   "cell_type": "code",
   "execution_count": 2,
   "metadata": {},
   "outputs": [],
   "source": [
    "## Setting up the environment"
   ]
  },
  {
   "cell_type": "code",
   "execution_count": 3,
   "metadata": {},
   "outputs": [],
   "source": [
    "model_name = 'model_2'\n",
    "models = ['model_1','model_4','model_3']\n",
    "env = envs.SUTEnv(model_name)"
   ]
  },
  {
   "cell_type": "code",
   "execution_count": 4,
   "metadata": {},
   "outputs": [
    {
     "name": "stdout",
     "output_type": "stream",
     "text": [
      "\n",
      "Test set: Avg. loss: 80.9982, Accuracy: 17/50 (34%)\n",
      "\n"
     ]
    },
    {
     "name": "stderr",
     "output_type": "stream",
     "text": [
      "/home/bernard/.local/lib/python3.6/site-packages/torch/nn/_reduction.py:43: UserWarning: size_average and reduce args will be deprecated, please use reduction='sum' instead.\n",
      "  warnings.warn(warning.format(ret))\n"
     ]
    }
   ],
   "source": [
    "test_model = MNISTClassifier.load_model(model_name)\n",
    "testset_path = \"sample_test_set\"\n",
    "testset = np.load(testset_path+\"_data.npy\") #[Num Samples, 1, 1, 28, 28]\n",
    "testset_labels = np.load(testset_path+\"_labels.npy\")\n",
    "losses, sim_log = MNISTClassifier.test_sample(test_model.cuda(), testset, testset_labels)"
   ]
  },
  {
   "cell_type": "code",
   "execution_count": 5,
   "metadata": {},
   "outputs": [],
   "source": [
    "agent = agents_maml.AgentMAML(env.n_actions)\n",
    "hidden = (Variable(torch.zeros(1, 1, 50).float()), Variable(torch.zeros(1, 1, 50).float()))\n"
   ]
  },
  {
   "cell_type": "code",
   "execution_count": 6,
   "metadata": {
    "scrolled": true
   },
   "outputs": [],
   "source": [
    "meta_trainer = maml.Meta(models, model_name)"
   ]
  },
  {
   "cell_type": "code",
   "execution_count": 7,
   "metadata": {},
   "outputs": [
    {
     "name": "stdout",
     "output_type": "stream",
     "text": [
      "Training finished\n"
     ]
    }
   ],
   "source": [
    "max_iters = 50\n",
    "num_succ = 0\n",
    "succ_rate = []\n",
    "meta_trainer.forward()"
   ]
  },
  {
   "cell_type": "code",
   "execution_count": 8,
   "metadata": {},
   "outputs": [],
   "source": [
    "rate, env = meta_trainer.finetunning()"
   ]
  },
  {
   "cell_type": "code",
   "execution_count": 9,
   "metadata": {},
   "outputs": [
    {
     "data": {
      "text/plain": [
       "<matplotlib.legend.Legend at 0x7f0f14a814a8>"
      ]
     },
     "execution_count": 9,
     "metadata": {},
     "output_type": "execute_result"
    },
    {
     "data": {
      "image/png": "[encoded data removed]",
      "text/plain": [
       "<Figure size 432x288 with 1 Axes>"
      ]
     },
     "metadata": {
      "needs_background": "light"
     },
     "output_type": "display_data"
    }
   ],
   "source": [
    "plt.plot(rate, label='MAML Recurrent Q-learning')\n",
    "plt.legend()"
   ]
  },
  {
   "cell_type": "code",
   "execution_count": 10,
   "metadata": {},
   "outputs": [
    {
     "data": {
      "text/plain": [
       "[(17, True, 0.9198107719421387),\n",
       " (2, False, 1.8666114807128906),\n",
       " (0, False, 1.5941133499145508),\n",
       " (0, False, 1.5941133499145508),\n",
       " (7, False, 2.8271071910858154),\n",
       " (2, False, 1.8666114807128906),\n",
       " (37, False, 3.161377429962158),\n",
       " (7, False, 2.8271071910858154),\n",
       " (43, False, 1.6240735054016113),\n",
       " (47, True, 0.05294322967529297),\n",
       " (27, False, 2.5721116065979004),\n",
       " (24, True, 0.002574920654296875),\n",
       " (34, False, 1.6524832248687744),\n",
       " (18, False, 1.7573928833007812),\n",
       " (45, False, 1.8240303993225098),\n",
       " (6, False, 1.9908374547958374),\n",
       " (20, True, 1.496614694595337),\n",
       " (0, False, 1.5941133499145508),\n",
       " (18, False, 1.7573928833007812),\n",
       " (20, True, 1.496614694595337),\n",
       " (20, True, 1.496614694595337),\n",
       " (4, False, 1.7537039518356323),\n",
       " (38, False, 2.084350824356079),\n",
       " (7, False, 2.8271071910858154),\n",
       " (39, True, 0.026421546936035156),\n",
       " (34, False, 1.6524832248687744),\n",
       " (30, False, 1.7280778884887695),\n",
       " (16, True, 1.5225410461425781),\n",
       " (13, False, 1.6910831928253174),\n",
       " (15, False, 3.2130184173583984),\n",
       " (17, True, 0.9198107719421387),\n",
       " (48, False, 1.5458815097808838),\n",
       " (41, False, 1.5941133499145508),\n",
       " (21, True, 1.5138754844665527),\n",
       " (24, True, 0.002574920654296875),\n",
       " (2, False, 1.8666114807128906),\n",
       " (20, True, 1.496614694595337),\n",
       " (37, False, 3.161377429962158),\n",
       " (19, False, 1.5941133499145508),\n",
       " (6, False, 1.9908374547958374),\n",
       " (37, False, 3.161377429962158),\n",
       " (5, False, 1.5435848236083984),\n",
       " (1, False, 1.5941133499145508),\n",
       " (25, True, 1.3880760669708252),\n",
       " (35, False, 1.7152785062789917),\n",
       " (46, True, 1.5138754844665527),\n",
       " (40, False, 1.668074607849121),\n",
       " (48, False, 1.5458815097808838),\n",
       " (31, True, 1.5214574337005615),\n",
       " (9, True, 1.5138754844665527)]"
      ]
     },
     "execution_count": 10,
     "metadata": {},
     "output_type": "execute_result"
    }
   ],
   "source": [
    "env.action_log"
   ]
  },
  {
   "cell_type": "code",
   "execution_count": 11,
   "metadata": {},
   "outputs": [],
   "source": [
    "plot_maml = []\n",
    "visited = []\n",
    "num_fails = 0\n",
    "total_reward = 0\n",
    "for val in env.action_log:\n",
    "    if val[1] == False and val[0] not in visited:\n",
    "        num_fails += 1\n",
    "    visited.append(val[0])\n",
    "    plot_maml.append(num_fails)\n",
    "    total_reward += val[2]\n",
    "    "
   ]
  },
  {
   "cell_type": "code",
   "execution_count": 12,
   "metadata": {},
   "outputs": [
    {
     "data": {
      "text/plain": [
       "[<matplotlib.lines.Line2D at 0x7f0e781f2128>]"
      ]
     },
     "execution_count": 12,
     "metadata": {},
     "output_type": "execute_result"
    },
    {
     "data": {
      "image/png": "[encoded data removed]",
      "text/plain": [
       "<Figure size 432x288 with 1 Axes>"
      ]
     },
     "metadata": {
      "needs_background": "light"
     },
     "output_type": "display_data"
    }
   ],
   "source": [
    "plt.plot(plot_maml)"
   ]
  },
  {
   "cell_type": "code",
   "execution_count": null,
   "metadata": {},
   "outputs": [],
   "source": []
  }
 ],
 "metadata": {
  "kernelspec": {
   "display_name": "Python 3",
   "language": "python",
   "name": "python3"
  },
  "language_info": {
   "codemirror_mode": {
    "name": "ipython",
    "version": 3
   },
   "file_extension": ".py",
   "mimetype": "text/x-python",
   "name": "python",
   "nbconvert_exporter": "python",
   "pygments_lexer": "ipython3",
   "version": "3.6.8"
  }
 },
 "nbformat": 4,
 "nbformat_minor": 4
}
